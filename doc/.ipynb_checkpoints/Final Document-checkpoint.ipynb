{
 "cells": [
  {
   "cell_type": "markdown",
   "id": "0d59fd8d",
   "metadata": {},
   "source": [
    "  ## 1. Introduction\n",
    "\n",
    "* Project\n",
    "\n",
    "We aim to develop Python-based data analysis software The goal is to develop software that can analyze Micro Led data in detail."
   ]
  },
  {
   "cell_type": "markdown",
   "id": "f08ad02a",
   "metadata": {},
   "source": [
    "## 2. Project information\n",
    " \n",
    "    \n",
    "* **Detailed project**\n",
    "    \n",
    "  At first,\n",
    "\n",
    "  The main task is to receive data from the customer and then receive the request.\n",
    " \n",
    "  Main request \n",
    "  + Wafer\n",
    "  + Die row & colum\n",
    "  + option\n",
    " \n",
    "  We can analyze the selected data by specifying specific elements In order to develop such analysis software, a black box(software) that implments this function is created to solve the customer's request.\n",
    "\n",
    "  In the software,\n",
    "  * We process the raw data and print it out. \n",
    "  * We show the processed data as a figure and save the file. \n",
    " \n",
    " **You can selectively output only the graph you want.**\n",
    " \n",
    "  Please put the data in the 'dat' folder\n",
    "  specify the file path\n",
    "  Run the run.py "
   ]
  },
  {
   "cell_type": "markdown",
   "id": "ready-singer",
   "metadata": {},
   "source": [
    "* **Run file description** \n",
    "\n",
    "   Data is processed by selecting only files in \"dat\"\n",
    "   \n",
    "   Load the module that processes and fits raw data and the module that makes the data parsed from accel, respectively."
   ]
  },
  {
   "cell_type": "markdown",
   "id": "western-salvation",
   "metadata": {},
   "source": [
    "## 3. Install and Run \n",
    "\n",
    " * Getting Stared\n",
    "    + Entered the Terminal, write down 'pip install -r requirements.txt' and download it. \\\n",
    " ``pip install -r requirements.txt``\n",
    "\n",
    "\n",
    " * How to Run\n",
    "   + Choose the raw data folder customer want to analyze.\n"
   ]
  },
  {
   "cell_type": "markdown",
   "id": "d8784685",
   "metadata": {},
   "source": [
    "## 4. Description of the module file feature"
   ]
  },
  {
   "cell_type": "markdown",
   "id": "divided-simulation",
   "metadata": {},
   "source": [
    "\n",
    " ### 1) Fitting module \n",
    " \n",
    "   * The graph is drawn by parsing the raw data of PL data, EL data in the Accel file.\n",
    "   * The fitting of parsing a raw data and displays the data value y-axis corresponding to x-axis and stored in the graph to visualize the image."
   ]
  },
  {
   "cell_type": "markdown",
   "id": "c7a7cc43",
   "metadata": {},
   "source": [
    "## 5. Example of analysis result"
   ]
  },
  {
   "cell_type": "code",
   "execution_count": 2,
   "id": "jewish-serial",
   "metadata": {},
   "outputs": [
    {
     "name": "stdout",
     "output_type": "stream",
     "text": [
      "C:\\Users\\ASDL\\Desktop\\micro_led_analysis\n"
     ]
    }
   ],
   "source": [
    "import os\n",
    "\n",
    "os.chdir('../')\n",
    "print(os.getcwd())"
   ]
  },
  {
   "cell_type": "markdown",
   "id": "appointed-cartridge",
   "metadata": {},
   "source": [
    "  ❗caution❗\n",
    ">\n",
    "> If an error occurs, please refresh the jupyter notebook or restart the kernel "
   ]
  },
  {
   "cell_type": "code",
   "execution_count": 3,
   "id": "78d4e398",
   "metadata": {},
   "outputs": [],
   "source": [
    "import pandas as pd\n",
    "import seaborn as sns\n",
    "import matplotlib.pyplot as plt\n",
    "from matplotlib import font_manager, rc\n",
    "from sklearn.preprocessing import StandardScaler\n",
    "from sklearn.ensemble import RandomForestClassifier"
   ]
  },
  {
   "cell_type": "code",
   "execution_count": 4,
   "id": "167ff37e",
   "metadata": {},
   "outputs": [
    {
     "data": {
      "text/plain": [
       "array(['PL OK', 'PL NG'], dtype=object)"
      ]
     },
     "execution_count": 4,
     "metadata": {},
     "output_type": "execute_result"
    }
   ],
   "source": [
    "df = pd.read_excel('./dat/Ver6.xlsx')\n",
    "df.drop(['No',' X Index',' Y Index',' X Size',' Y Size'],axis=1,inplace=True)\n",
    "\n",
    "df['PL 장비 JudgeType'].unique()  #array(['PL OK', 'PL NG'], dtype=object)"
   ]
  },
  {
   "cell_type": "code",
   "execution_count": 5,
   "id": "00e359e4",
   "metadata": {},
   "outputs": [
    {
     "name": "stdout",
     "output_type": "stream",
     "text": [
      "     PL 장비 JudgeType     Sum  PL_Average  PL_Max' Value   PL_Min' Value   \n",
      "0              PL OK  134826          26            134               0  \\\n",
      "1              PL OK  136747          27            130               0   \n",
      "2              PL OK  138202          27            132               0   \n",
      "3              PL OK  138073          27            136               0   \n",
      "4              PL OK  132984          26            130               0   \n",
      "...              ...     ...         ...            ...             ...   \n",
      "7585           PL OK  151170          30            137               0   \n",
      "7586           PL OK  151119          30            137               0   \n",
      "7587           PL OK  150121          30            137               0   \n",
      "7588           PL OK  151991          30            137               0   \n",
      "7589           PL OK  157354          31            142               0   \n",
      "\n",
      "           EL_PW        EL_PI       EL_DW        EL_II    EL_FWHM   \n",
      "0     534.015573  2857.285717  538.324135  72146.76897  20.585671  \\\n",
      "1     534.404023  2891.666670  538.387126  72441.85190  20.197263   \n",
      "2     533.821338  2878.999985  538.327729  73042.98684  20.586394   \n",
      "3     533.627095  3059.238107  539.198849  82270.31520  21.944712   \n",
      "4     534.209802  2857.333316  538.422098  71165.12516  20.197263   \n",
      "...          ...          ...         ...          ...        ...   \n",
      "7585  534.404023  2777.761908  538.345698  78790.60535  23.499140   \n",
      "7586  535.569211  2781.190465  537.971175  78427.69496  23.499140   \n",
      "7587  535.375030  2605.476217  537.985225  71309.74003  22.722312   \n",
      "7588  533.821338  3189.095224  538.618029  95642.62954  25.053677   \n",
      "7589  536.345866  2542.238124  538.174947  73263.39877  24.275115   \n",
      "\n",
      "             IR(A)     VR(V)    VF1(V)    VF2(V)    VF3(V)     PO-Top(W)   \n",
      "0    -1.640000e-10  0.009218  1.994915  2.097189  2.560931  7.470000e-07  \\\n",
      "1    -1.600000e-11  0.002268  1.920832  2.064456  2.425919  7.510000e-07   \n",
      "2    -1.600000e-11  0.003081  1.927042  2.066935  2.448471  7.530000e-07   \n",
      "3    -1.590000e-11 -0.043619  1.908233  2.057762  2.368388  7.450000e-07   \n",
      "4    -1.970000e-11  0.008678  1.918408  2.061879  2.401193  7.440000e-07   \n",
      "...            ...       ...       ...       ...       ...           ...   \n",
      "7585 -1.930000e-11  0.002037  1.880264  2.058614  2.365977  7.790000e-07   \n",
      "7586 -3.430000e-11  0.001760  1.885782  2.061236  2.380962  7.780000e-07   \n",
      "7587 -2.710000e-11  0.003030  1.875930  2.054623  2.349167  7.700000e-07   \n",
      "7588 -2.170000e-11 -0.010248  1.925248  2.074001  2.482995  7.760000e-07   \n",
      "7589 -1.970000e-11 -0.007675  1.893555  2.062310  2.400610  7.730000e-07   \n",
      "\n",
      "     자체 Judge  \n",
      "0       EL OK  \n",
      "1       EL OK  \n",
      "2       EL OK  \n",
      "3       EL OK  \n",
      "4       EL OK  \n",
      "...       ...  \n",
      "7585    EL OK  \n",
      "7586    EL OK  \n",
      "7587    EL OK  \n",
      "7588    EL OK  \n",
      "7589    EL OK  \n",
      "\n",
      "[7590 rows x 17 columns]\n"
     ]
    }
   ],
   "source": [
    "print(df)"
   ]
  },
  {
   "cell_type": "code",
   "execution_count": 6,
   "id": "33c683ad",
   "metadata": {},
   "outputs": [],
   "source": [
    "for i in range(0,7590):\n",
    "    if df.loc[i,'PL 장비 JudgeType'] == 'PL OK':\n",
    "        df.loc[i,'PL 장비 JudgeType'] = 1\n",
    "    else:\n",
    "        df.loc[i,'PL 장비 JudgeType'] = 0\n",
    "\n",
    "for i in range(0,7590):\n",
    "    if df.loc[i,'자체 Judge'] == 'EL OK':\n",
    "        df.loc[i,'자체 Judge'] = 1\n",
    "        df.loc[i,'Error flag'] = 'No error'\n",
    "    else:\n",
    "        df.loc[i,'Error flag'] = df.loc[i,'자체 Judge']\n",
    "        df.loc[i,'자체 Judge'] = 0\n",
    "\n",
    "df_1 = pd.read_excel('./dat/Ver6.xlsx')\n",
    "df_1.drop(['No',' X Index',' Y Index',' X Size',' Y Size'],axis=1,inplace=True)\n",
    "\n",
    "df_1['PL 장비 JudgeType'].unique()  #array(['PL OK', 'PL NG'], dtype=object)\n",
    "\n",
    "\n",
    "for i in range(0,7590):\n",
    "    if df_1.loc[i,'PL 장비 JudgeType'] == 'PL OK':\n",
    "        df_1.loc[i,'PL 장비 JudgeType'] = 1\n",
    "    else:\n",
    "        df_1.loc[i,'PL 장비 JudgeType'] = 0\n",
    "\n",
    "for i in range(0,7590):\n",
    "    if df_1.loc[i,'자체 Judge'] == 'EL OK':\n",
    "        df_1.loc[i,'자체 Judge'] = 1\n",
    "    else:\n",
    "        df_1.loc[i,'자체 Judge'] = 0"
   ]
  },
  {
   "cell_type": "code",
   "execution_count": null,
   "id": "72039624",
   "metadata": {},
   "outputs": [],
   "source": [
    "# Column distribution by target --> column 별로 데이터 분포를 시각화 해보는 것\n",
    "font_name = font_manager.FontProperties(fname=\"c:/Windows/Fonts/malgun.ttf\").get_name()\n",
    "rc('font', family=font_name) \n",
    "\n",
    "for cnt, col in enumerate(df):\n",
    "    try:\n",
    "        plt.figure(figsize=(10, 5))\n",
    "        sns.histplot(df[col][df['PL 장비 JudgeType']==1], kde=True, stat=\"density\")\n",
    "        sns.histplot(df[col][df['PL 장비 JudgeType']==0], kde=True, stat=\"density\")\n",
    "        plt.legend(['True','False'], loc='best')\n",
    "        plt.title('histogram of features '+str(col))\n",
    "        plt.show()\n",
    "\n",
    "        if cnt >= 15: # 15개 칼럼까지만 출력\n",
    "            break\n",
    "\n",
    "    except Exception as e:\n",
    "        pass"
   ]
  },
  {
   "cell_type": "code",
   "execution_count": null,
   "id": "01e0a2df",
   "metadata": {},
   "outputs": [],
   "source": [
    "# 2 Dimension Plot --> 차원축소 기법을 이용하여 2차원으로 데이터를 시각화\n",
    "X = df.drop(['PL 장비 JudgeType','Error flag'], axis=1)\n",
    "y = df['PL 장비 JudgeType']\n",
    "\n",
    "scaler = StandardScaler()\n",
    "cancer_scale = pd.DataFrame(scaler.fit_transform(X), columns=X.columns)\n",
    "\n",
    "# plot 2D\n",
    "from sklearn.decomposition import PCA\n",
    "\n",
    "pca2 = PCA(n_components=2)\n",
    "data_pca2 = pca2.fit_transform(cancer_scale)\n",
    "\n",
    "plt.figure(figsize=(12, 8))\n",
    "plt.scatter(data_pca2[:,0], data_pca2[:,1], c=df['PL 장비 JudgeType'], s=40, edgecolors='white')\n",
    "plt.title(\"2D of Target distribution by PL JudgeType\")\n",
    "plt.xlabel('pcomp 1')\n",
    "plt.ylabel('pcomp 2')\n",
    "plt.show()"
   ]
  },
  {
   "cell_type": "code",
   "execution_count": null,
   "id": "bf4b7d7c",
   "metadata": {},
   "outputs": [],
   "source": [
    "# 3 Dimension Plot --> 차원축소 기법을 이용하여 3차원으로 데이터를 시각화\n",
    "from mpl_toolkits.mplot3d import Axes3D\n",
    "\n",
    "pca3 = PCA(n_components=3)\n",
    "data_pca3 = pca3.fit_transform(cancer_scale)\n",
    "\n",
    "fig = plt.figure(figsize=(12, 8))\n",
    "ax = fig.add_subplot(111, projection='3d')\n",
    "ax.scatter(data_pca3[:,0], data_pca3[:,1], data_pca3[:,2], c=df['PL 장비 JudgeType'], s=60, edgecolors='white')\n",
    "ax.set_title('3D of Target distribution by PL JudgeType')\n",
    "ax.set_xlabel('pcomp 1')\n",
    "ax.set_ylabel('pcomp 2')\n",
    "ax.set_zlabel('pcomp 3')\n",
    "plt.show()"
   ]
  },
  {
   "cell_type": "code",
   "execution_count": null,
   "id": "1b7f2378",
   "metadata": {},
   "outputs": [],
   "source": [
    "# Corrleation Heatmap --> 두 변수가 상관관계가 어떻게 되는지 시각화\n",
    "font_name = font_manager.FontProperties(fname=\"c:/Windows/Fonts/malgun.ttf\").get_name()\n",
    "rc('font', family=font_name) # 한글 출력 설정 부분\n",
    "\n",
    "cancer_tmp = df_1.copy()\n",
    "cancer_tmp['PL 장비 JudgeType'] = df_1['PL 장비 JudgeType'].replace({'1':1, '0':0})\n",
    "corrmat = cancer_tmp.corr()\n",
    "top_corr_features = corrmat.index[abs(corrmat[\"PL 장비 JudgeType\"])>=0.0]\n",
    "\n",
    "\n",
    "# plot\n",
    "plt.figure(figsize=(13,10))\n",
    "g = sns.heatmap(df[top_corr_features].corr(), annot=True, cmap=\"RdYlGn\")\n",
    "plt.show()"
   ]
  },
  {
   "cell_type": "markdown",
   "id": "prime-touch",
   "metadata": {},
   "source": [
    "## 8. Conclusion\n",
    "\n",
    " * After passing the law data provided by the customer, they use the ‘fitting module’ to fit.\n",
    " \n",
    " \n",
    " * Save this fitting figure in the ‘res’ folder.\n",
    "  \n",
    "  \n",
    " - Save the csv file to the 'res' folder based on the data provided by the customer.\n",
    " \n",
    " \n",
    " - After classifing wavelength by wafer and schematically representing the value of Max transmission ref.spec with wild grapes, IV R square was classified into wafers and error flags. Then, the I value at 1V and the I value at -1V are plotted.\n",
    " \n",
    " \n",
    " - And find the standard and variance standard deviations.\n",
    " \n",
    " \n",
    " - In Max transmission ref.spec, the group with the smallest standard deviation is 1310nm of D08, which has a value of 0.39185751314748174.\n",
    " \n",
    "\n",
    "- At 1V, the group with the smallest standard deviation in Current has a value of 0.0001958601941963012 at 1310 nm of D08.\n",
    "\n",
    "\n",
    "- At -1 V, the group with the smallest standard deviation at current is 1550 nm of D08, which has a value of 9.30988579955451e-10.\n",
    "\n",
    " \n",
    "- Next, the dataframe is briefly represented and the dataframe for the error flag is represented again.\n",
    "\n",
    " \n",
    "- Error Flag fits I-V data. Set the r-sq value to 0. It is expressed as 1, and if it is lower than 0.95, it is expressed as 0.95.\n",
    "\n",
    "**Therefore of the 98 data, We found 14 files in D23 and 14 files in D24, so please check these data again.**\n",
    " "
   ]
  },
  {
   "cell_type": "code",
   "execution_count": null,
   "id": "bed07570",
   "metadata": {},
   "outputs": [],
   "source": []
  }
 ],
 "metadata": {
  "kernelspec": {
   "display_name": "Python 3 (ipykernel)",
   "language": "python",
   "name": "python3"
  },
  "language_info": {
   "codemirror_mode": {
    "name": "ipython",
    "version": 3
   },
   "file_extension": ".py",
   "mimetype": "text/x-python",
   "name": "python",
   "nbconvert_exporter": "python",
   "pygments_lexer": "ipython3",
   "version": "3.11.1"
  },
  "toc": {
   "base_numbering": 1,
   "nav_menu": {},
   "number_sections": false,
   "sideBar": true,
   "skip_h1_title": false,
   "title_cell": "Table of Contents",
   "title_sidebar": "SBBFU_project_Contents",
   "toc_cell": false,
   "toc_position": {
    "height": "calc(100% - 180px)",
    "left": "10px",
    "top": "150px",
    "width": "269px"
   },
   "toc_section_display": true,
   "toc_window_display": true
  }
 },
 "nbformat": 4,
 "nbformat_minor": 5
}
